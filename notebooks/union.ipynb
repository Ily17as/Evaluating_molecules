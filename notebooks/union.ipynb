{
 "cells": [
  {
   "cell_type": "code",
   "execution_count": 2,
   "metadata": {},
   "outputs": [
    {
     "name": "stdout",
     "output_type": "stream",
     "text": [
      "/home/nikita/edu/competitions/admet\n"
     ]
    }
   ],
   "source": [
    "%cd .."
   ]
  },
  {
   "cell_type": "code",
   "execution_count": 3,
   "metadata": {},
   "outputs": [],
   "source": [
    "import pandas as pd"
   ]
  },
  {
   "cell_type": "code",
   "execution_count": 8,
   "metadata": {},
   "outputs": [],
   "source": [
    "paths = [\n",
    "    \"submissions/balanced_no_mol_engineering.csv\",\n",
    "    \"submissions/c_c(c)c.csv\",\n",
    "    \"submissions/c_cc_ccc.csv\",\n",
    "    \"submissions/oc_occ_occc.csv\",\n",
    "    \"submissions/ilyas1.csv\",\n",
    "    \"submissions/ilyas2.csv\",\n",
    "    \"submissions/ilyas3.csv\",\n",
    "]\n",
    "\n",
    "dfs = [\n",
    "    pd.read_csv(path) for path in paths\n",
    "]"
   ]
  },
  {
   "cell_type": "code",
   "execution_count": 13,
   "metadata": {},
   "outputs": [],
   "source": [
    "preds = pd.concat([df[[\"Y\"]] for df in dfs], axis=1)\n",
    "ensemble_preds = preds.mean(axis=1)"
   ]
  },
  {
   "cell_type": "code",
   "execution_count": 17,
   "metadata": {},
   "outputs": [],
   "source": [
    "submission = pd.read_csv(\"data/sample.csv\")\n",
    "submission[\"Y\"] = ensemble_preds\n",
    "submission.to_csv(\"submissions/7ensemble.csv\", index=False)"
   ]
  }
 ],
 "metadata": {
  "kernelspec": {
   "display_name": "Python 3",
   "language": "python",
   "name": "python3"
  },
  "language_info": {
   "codemirror_mode": {
    "name": "ipython",
    "version": 3
   },
   "file_extension": ".py",
   "mimetype": "text/x-python",
   "name": "python",
   "nbconvert_exporter": "python",
   "pygments_lexer": "ipython3",
   "version": "3.11.9"
  }
 },
 "nbformat": 4,
 "nbformat_minor": 2
}
