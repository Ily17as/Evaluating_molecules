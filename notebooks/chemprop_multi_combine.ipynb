{
 "cells": [
  {
   "cell_type": "code",
   "execution_count": 1,
   "metadata": {},
   "outputs": [
    {
     "name": "stdout",
     "output_type": "stream",
     "text": [
      "/home/nikita/edu/competitions/admet\n"
     ]
    }
   ],
   "source": [
    "%cd .."
   ]
  },
  {
   "cell_type": "code",
   "execution_count": 2,
   "metadata": {},
   "outputs": [],
   "source": [
    "from collections import deque\n",
    "\n",
    "import numpy as np\n",
    "import pandas as pd\n",
    "\n",
    "import torch\n",
    "from torch.nn import Sequential, Linear, ReLU, BatchNorm1d\n",
    "from torch.nn import functional as F\n",
    "\n",
    "from lightning import pytorch as pl\n",
    "\n",
    "from sklearn.model_selection import train_test_split\n",
    "from sklearn.metrics import roc_auc_score\n",
    "from sklearn.preprocessing import StandardScaler\n",
    "from imblearn.over_sampling import RandomOverSampler\n",
    "\n",
    "from rdkit import Chem, RDLogger\n",
    "from rdkit.Chem import Descriptors\n",
    "\n",
    "from chemprop import data, featurizers, models, nn\n",
    "\n",
    "from tqdm import tqdm"
   ]
  },
  {
   "cell_type": "code",
   "execution_count": 3,
   "metadata": {},
   "outputs": [],
   "source": [
    "df_train = pd.read_csv(\"data/shuffled_final_extended_train_data.csv\", index_col=0)\n",
    "df_test = pd.read_csv(\"data/test_data.csv\", index_col=0)\n",
    "sample = pd.read_csv(\"data/sample.csv\")"
   ]
  },
  {
   "cell_type": "code",
   "execution_count": 22,
   "metadata": {},
   "outputs": [
    {
     "name": "stderr",
     "output_type": "stream",
     "text": [
      "100%|██████████| 26214/26214 [04:19<00:00, 100.94it/s]\n",
      "100%|██████████| 1221/1221 [00:08<00:00, 146.17it/s]\n"
     ]
    }
   ],
   "source": [
    "RDLogger.DisableLog(\"rdApp.*\")\n",
    "\n",
    "def get_decsriptors_df(smiles_list):\n",
    "    descriptors_list = []\n",
    "\n",
    "    for smiles in tqdm(smiles_list):\n",
    "        descriptors_list.append(\n",
    "            Descriptors.CalcMolDescriptors(Chem.MolFromSmiles(smiles), 0)\n",
    "        )\n",
    "    return pd.DataFrame(descriptors_list).fillna(0)\n",
    "\n",
    "train_descriptors = get_decsriptors_df(df_train[\"Drug\"])\n",
    "test_descriptors = get_decsriptors_df(df_test[\"Drug\"])"
   ]
  },
  {
   "cell_type": "code",
   "execution_count": 24,
   "metadata": {},
   "outputs": [],
   "source": [
    "train_descriptors[\"Ipc\"] = np.log(train_descriptors[\"Ipc\"] + 1)\n",
    "test_descriptors[\"Ipc\"] = np.log(test_descriptors[\"Ipc\"] + 1)"
   ]
  },
  {
   "cell_type": "code",
   "execution_count": 26,
   "metadata": {},
   "outputs": [
    {
     "name": "stderr",
     "output_type": "stream",
     "text": [
      "/tmp/ipykernel_28580/19333229.py:2: UserWarning: Instantiating Float32Dtype without any arguments.Pass a Float32Dtype instance to silence this warning.\n",
      "  scaler.fit(train_descriptors.astype(pd.Float32Dtype))\n",
      "/tmp/ipykernel_28580/19333229.py:4: UserWarning: Instantiating Float32Dtype without any arguments.Pass a Float32Dtype instance to silence this warning.\n",
      "  scaler.transform(train_descriptors.astype(pd.Float32Dtype)),\n",
      "/tmp/ipykernel_28580/19333229.py:8: UserWarning: Instantiating Float32Dtype without any arguments.Pass a Float32Dtype instance to silence this warning.\n",
      "  scaler.transform(test_descriptors.astype(pd.Float32Dtype)),\n"
     ]
    }
   ],
   "source": [
    "scaler = StandardScaler()\n",
    "scaler.fit(train_descriptors.astype(pd.Float32Dtype))\n",
    "train_descriptors = pd.DataFrame(\n",
    "    scaler.transform(train_descriptors.astype(pd.Float32Dtype)),\n",
    "    columns=train_descriptors.columns,\n",
    ")\n",
    "test_descriptors = pd.DataFrame(\n",
    "    scaler.transform(test_descriptors.astype(pd.Float32Dtype)),\n",
    "    columns=test_descriptors.columns,\n",
    ")"
   ]
  },
  {
   "cell_type": "code",
   "execution_count": 30,
   "metadata": {},
   "outputs": [],
   "source": [
    "df_train = pd.concat([df_train.reset_index(), train_descriptors], axis=1)\n",
    "df_test = pd.concat([df_test, test_descriptors], axis=1)"
   ]
  },
  {
   "cell_type": "code",
   "execution_count": 33,
   "metadata": {},
   "outputs": [],
   "source": [
    "descriptors = train_descriptors.columns\n",
    "def get_descriptors_features(df):\n",
    "    return df[descriptors]"
   ]
  },
  {
   "cell_type": "code",
   "execution_count": 34,
   "metadata": {},
   "outputs": [],
   "source": [
    "df_trains = []\n",
    "df_vals = []\n",
    "df_tests = []\n",
    "properties = df_train.property.unique()\n",
    "\n",
    "for prop in properties:\n",
    "    subset_train = df_train[df_train.property == prop]\n",
    "    subset_train, subset_val = train_test_split(\n",
    "        subset_train, test_size=0.2, random_state=75, stratify=subset_train.Y\n",
    "    )\n",
    "    sampler = RandomOverSampler()\n",
    "    subset_train = sampler.fit_resample(subset_train, subset_train.Y)[0]\n",
    "    df_trains.append(subset_train)\n",
    "    df_vals.append(subset_val)\n",
    "    df_tests.append(df_test[df_test.property == prop])"
   ]
  },
  {
   "cell_type": "code",
   "execution_count": 35,
   "metadata": {},
   "outputs": [],
   "source": [
    "df_train_total = pd.concat(df_trains, axis=0)\n",
    "df_val_total = pd.concat(df_vals, axis=0)\n",
    "df_test_total = pd.concat(df_tests, axis=0)\n",
    "\n",
    "\n",
    "df_train_total = pd.concat(\n",
    "    [\n",
    "        df_train_total,\n",
    "        pd.get_dummies(df_train_total[\"property\"], prefix=\"property\").astype(\n",
    "            np.float32\n",
    "        ),\n",
    "    ],\n",
    "    axis=1,\n",
    ")\n",
    "df_val_total = pd.concat(\n",
    "    [\n",
    "        df_val_total,\n",
    "        pd.get_dummies(df_val_total[\"property\"], prefix=\"property\").astype(np.float32),\n",
    "    ],\n",
    "    axis=1,\n",
    ")\n",
    "df_train_total[\"property_1\"] = df_train_total[\"property_1\"] * df_train_total[\"Y\"]\n",
    "df_train_total[\"property_2\"] = df_train_total[\"property_2\"] * df_train_total[\"Y\"]\n",
    "df_train_total[\"property_3\"] = df_train_total[\"property_3\"] * df_train_total[\"Y\"]\n",
    "\n",
    "df_val_total[\"property_1\"] = df_val_total[\"property_1\"] * df_val_total[\"Y\"]\n",
    "df_val_total[\"property_2\"] = df_val_total[\"property_2\"] * df_val_total[\"Y\"]\n",
    "df_val_total[\"property_3\"] = df_val_total[\"property_3\"] * df_val_total[\"Y\"]"
   ]
  },
  {
   "cell_type": "code",
   "execution_count": 36,
   "metadata": {},
   "outputs": [],
   "source": [
    "df_train_total = df_train_total.sample(frac=1)"
   ]
  },
  {
   "cell_type": "code",
   "execution_count": 68,
   "metadata": {},
   "outputs": [],
   "source": [
    "train_data_total = []\n",
    "val_data_total = []\n",
    "test_data_total = []\n",
    "\n",
    "train_data_descriptors = []\n",
    "val_data_descriptors = []\n",
    "test_data_descriptors = []\n",
    "train_data_total = []\n",
    "\n",
    "for smi, y, features in zip(\n",
    "    df_train_total[\"Drug\"],\n",
    "    df_train_total[[\"property\", \"property_1\", \"property_2\", \"property_3\"]].values,\n",
    "    get_descriptors_features(df_train_total).to_numpy().astype(np.float32)\n",
    "):\n",
    "    try:\n",
    "        train_data_total.append(data.MoleculeDatapoint.from_smi(smi, y))\n",
    "        train_data_descriptors.append(features)\n",
    "    except Exception:\n",
    "        continue\n",
    "\n",
    "val_data_total = []\n",
    "\n",
    "for smi, y, features in zip(\n",
    "    df_val_total[\"Drug\"],\n",
    "    df_val_total[[\"property\", \"property_1\", \"property_2\", \"property_3\"]].values,\n",
    "    get_descriptors_features(df_val_total).to_numpy().astype(np.float32)\n",
    "):\n",
    "    try:\n",
    "        val_data_total.append(data.MoleculeDatapoint.from_smi(smi, y))\n",
    "        val_data_descriptors.append(features)\n",
    "    except Exception:\n",
    "        continue\n",
    "\n",
    "test_data_total = [\n",
    "    data.MoleculeDatapoint.from_smi(smi, y)\n",
    "    for smi, y in zip(df_test_total[\"Drug\"], df_test_total[[\"property\"]].values)\n",
    "]\n",
    "\n",
    "train_data_descriptors = np.array(train_data_descriptors)\n",
    "val_data_descriptors = np.array(val_data_descriptors)\n",
    "test_data_descriptors = (\n",
    "    get_descriptors_features(df_test_total).to_numpy().astype(np.float32)\n",
    ")"
   ]
  },
  {
   "cell_type": "code",
   "execution_count": 71,
   "metadata": {},
   "outputs": [],
   "source": [
    "featurizer = featurizers.SimpleMoleculeMolGraphFeaturizer()\n",
    "train_dataset = data.MoleculeDataset(train_data_total, featurizer)\n",
    "val_dataset = data.MoleculeDataset(val_data_total, featurizer)\n",
    "test_dataset = data.MoleculeDataset(test_data_total, featurizer)\n",
    "\n",
    "train_loader = data.build_dataloader(train_dataset, shuffle=False, batch_size=64)\n",
    "\n",
    "val_loader = data.build_dataloader(val_dataset, shuffle=False, batch_size=64)\n",
    "\n",
    "test_loader = data.build_dataloader(test_dataset, shuffle=False, batch_size=64)\n",
    "\n",
    "train_feature_loader = torch.utils.data.DataLoader(\n",
    "    train_data_descriptors, batch_size=64, shuffle=False\n",
    ")\n",
    "val_feature_loader = torch.utils.data.DataLoader(\n",
    "    val_data_descriptors, batch_size=64, shuffle=False\n",
    ")\n",
    "test_feature_loader = torch.utils.data.DataLoader(\n",
    "    test_data_descriptors, batch_size=64, shuffle=False\n",
    ")"
   ]
  },
  {
   "cell_type": "code",
   "execution_count": 72,
   "metadata": {},
   "outputs": [],
   "source": [
    "class CombinedLoader(torch.utils.data.DataLoader):\n",
    "    def __init__(self, *loaders):\n",
    "        self.loaders = loaders\n",
    "\n",
    "    def __iter__(self):\n",
    "        for item in zip(*self.loaders):\n",
    "            yield item\n",
    "\n",
    "    def __len__(self):\n",
    "        return min(len(loader) for loader in self.loaders)\n",
    "\n",
    "\n",
    "train_combined_loader = CombinedLoader(train_loader, train_feature_loader)\n",
    "\n",
    "val_combined_loader = CombinedLoader(val_loader, val_feature_loader)\n",
    "\n",
    "test_combined_loader = CombinedLoader(test_loader, test_feature_loader)"
   ]
  },
  {
   "cell_type": "code",
   "execution_count": 76,
   "metadata": {},
   "outputs": [],
   "source": [
    "class MoleculeCrusher(torch.nn.Module):\n",
    "    def __init__(self, mpnn, input_dim, embedding_dim=256):\n",
    "        super().__init__()\n",
    "        self.mpnn = mpnn\n",
    "        self.embedding_dim = embedding_dim\n",
    "\n",
    "        self.embedder = Sequential(\n",
    "            Linear(input_dim, embedding_dim),\n",
    "            ReLU(),\n",
    "            Linear(embedding_dim, embedding_dim),\n",
    "            ReLU(),\n",
    "            Linear(embedding_dim, embedding_dim),\n",
    "        )\n",
    "\n",
    "        prev_in_features = mpnn.predictor.ffn[0][0].in_features\n",
    "        prev_out_features = mpnn.predictor.ffn[0][0].out_features\n",
    "        self.mpnn.predictor.ffn[0][0] = Linear(\n",
    "            prev_in_features + embedding_dim, prev_out_features\n",
    "        )\n",
    "        self.mpnn.predictor.ffn[1][2] = Linear(prev_out_features, 3)\n",
    "\n",
    "        self.bn = BatchNorm1d(embedding_dim + prev_in_features)\n",
    "\n",
    "        self.optimizer = torch.optim.Adam(self.parameters(), lr=1e-4, weight_decay=3e-4)\n",
    "\n",
    "    @property\n",
    "    def device(self):\n",
    "        return next(self.parameters()).device\n",
    "\n",
    "    def loss(self, pred, target):\n",
    "        idx = target[:, 0].to(torch.long).unsqueeze(1)\n",
    "        target = torch.gather(target, 1, idx)\n",
    "        pred = torch.gather(pred, 1, idx - 1)\n",
    "        return F.binary_cross_entropy(pred, target, reduction=\"mean\")\n",
    "\n",
    "    def metric(self, pred, target):\n",
    "        idx = target[:, 0].to(torch.long).unsqueeze(1)\n",
    "        target = torch.gather(target, 1, idx)\n",
    "        pred = torch.gather(pred, 1, idx - 1)\n",
    "        return roc_auc_score(target, pred)\n",
    "\n",
    "    def forward(self, bmg: data.collate.BatchMolGraph, features: torch.Tensor):\n",
    "        features_embedding = self.embedder(features)\n",
    "        mol_embedding = self.mpnn.agg(self.mpnn.message_passing(bmg), bmg.batch)\n",
    "\n",
    "        embedding = self.bn(torch.cat([mol_embedding, features_embedding], dim=1))\n",
    "\n",
    "        return self.mpnn.predictor(embedding)"
   ]
  },
  {
   "cell_type": "code",
   "execution_count": 77,
   "metadata": {},
   "outputs": [],
   "source": [
    "mp = nn.BondMessagePassing()\n",
    "agg = nn.MeanAggregation()\n",
    "ffn = nn.BinaryClassificationFFN()\n",
    "batch_norm = True\n",
    "metric_list = [\n",
    "    nn.metrics.BinaryAUROCMetric(),\n",
    "    nn.metrics.BinaryAccuracyMetric(),\n",
    "    nn.metrics.BCEMetric(),\n",
    "]\n",
    "\n",
    "mpnn = models.MPNN(mp, agg, ffn, batch_norm, metric_list)\n",
    "\n",
    "\n",
    "mc_model = MoleculeCrusher(mpnn, 210, 256)"
   ]
  },
  {
   "cell_type": "code",
   "execution_count": 78,
   "metadata": {},
   "outputs": [],
   "source": [
    "def train(model, train_loader, val_loader, epochs, model_name):\n",
    "    best_score = -float(\"inf\")\n",
    "    best_it = 0\n",
    "    for epoch in range(epochs):\n",
    "        model.train()\n",
    "        train_loop = tqdm(train_loader, desc=f\"Train epoch {epoch}\")\n",
    "        losses = []\n",
    "        for batch in train_loop:\n",
    "            batch_mol, batch_feat = batch\n",
    "            bmg, V_d, X_d, target, weights, lt_mask, gt_mask = batch_mol\n",
    "\n",
    "            bmg.V = bmg.V.to(model.device)\n",
    "            bmg.E = bmg.E.to(model.device)\n",
    "            bmg.edge_index = bmg.edge_index.to(model.device)\n",
    "            bmg.rev_edge_index = bmg.rev_edge_index.to(model.device)\n",
    "            bmg.batch = bmg.batch.to(model.device)\n",
    "            target = target.to(model.device)\n",
    "            batch_feat = batch_feat.to(model.device)\n",
    "            pred = model.forward(bmg, batch_feat)\n",
    "\n",
    "            model.optimizer.zero_grad()\n",
    "            loss = model.loss(pred, target)\n",
    "            loss.backward()\n",
    "            model.optimizer.step()\n",
    "            losses.append(loss.item())\n",
    "            train_loop.set_postfix(loss=np.mean(losses))\n",
    "\n",
    "        model.eval()\n",
    "        val_loop = tqdm(val_loader, desc=f\"Val epoch {epoch}\")\n",
    "        all_preds = []\n",
    "        all_targets = []\n",
    "        for batch in val_loop:\n",
    "            batch_mol, batch_feat = batch\n",
    "            bmg, V_d, X_d, target, weights, lt_mask, gt_mask = batch_mol\n",
    "\n",
    "            bmg.V = bmg.V.to(model.device)\n",
    "            bmg.E = bmg.E.to(model.device)\n",
    "            bmg.edge_index = bmg.edge_index.to(model.device)\n",
    "            bmg.rev_edge_index = bmg.rev_edge_index.to(model.device)\n",
    "            bmg.batch = bmg.batch.to(model.device)\n",
    "            target = target.to(model.device)\n",
    "            batch_feat = batch_feat.to(model.device)\n",
    "\n",
    "            with torch.no_grad():\n",
    "                pred = model.forward(bmg, batch_feat)\n",
    "\n",
    "            all_preds.extend(pred.tolist())\n",
    "            all_targets.extend(target.tolist())\n",
    "\n",
    "        roc_auc = model.metric(torch.tensor(all_preds), torch.tensor(all_targets))\n",
    "        if roc_auc > best_score:\n",
    "            best_score = roc_auc\n",
    "            best_it = epoch\n",
    "\n",
    "        print(f\"Validation ROC AUC: {roc_auc}\")\n",
    "        torch.save(model.state_dict(), f\"checkpoints/{model_name}_{epoch}.pt\")\n",
    "    print(f\"Best score: {best_score} at iteration {best_it}\")"
   ]
  },
  {
   "cell_type": "code",
   "execution_count": 79,
   "metadata": {},
   "outputs": [
    {
     "name": "stderr",
     "output_type": "stream",
     "text": [
      "Train epoch 0: 100%|██████████| 317/317 [00:27<00:00, 11.35it/s, loss=0.472]\n",
      "Val epoch 0: 100%|██████████| 66/66 [00:02<00:00, 24.20it/s]\n"
     ]
    },
    {
     "name": "stdout",
     "output_type": "stream",
     "text": [
      "Validation ROC AUC: 0.9200653257065586\n"
     ]
    },
    {
     "name": "stderr",
     "output_type": "stream",
     "text": [
      "Train epoch 1: 100%|██████████| 317/317 [00:28<00:00, 11.27it/s, loss=0.311]\n",
      "Val epoch 1: 100%|██████████| 66/66 [00:02<00:00, 23.50it/s]\n"
     ]
    },
    {
     "name": "stdout",
     "output_type": "stream",
     "text": [
      "Validation ROC AUC: 0.9492390832504196\n"
     ]
    },
    {
     "name": "stderr",
     "output_type": "stream",
     "text": [
      "Train epoch 2: 100%|██████████| 317/317 [00:30<00:00, 10.45it/s, loss=0.214]\n",
      "Val epoch 2: 100%|██████████| 66/66 [00:03<00:00, 18.59it/s]\n"
     ]
    },
    {
     "name": "stdout",
     "output_type": "stream",
     "text": [
      "Validation ROC AUC: 0.9658040046329198\n"
     ]
    },
    {
     "name": "stderr",
     "output_type": "stream",
     "text": [
      "Train epoch 3: 100%|██████████| 317/317 [00:27<00:00, 11.49it/s, loss=0.156]\n",
      "Val epoch 3: 100%|██████████| 66/66 [00:02<00:00, 22.81it/s]\n"
     ]
    },
    {
     "name": "stdout",
     "output_type": "stream",
     "text": [
      "Validation ROC AUC: 0.9755073018427958\n"
     ]
    },
    {
     "name": "stderr",
     "output_type": "stream",
     "text": [
      "Train epoch 4: 100%|██████████| 317/317 [00:28<00:00, 11.11it/s, loss=0.118]\n",
      "Val epoch 4: 100%|██████████| 66/66 [00:02<00:00, 24.55it/s]\n"
     ]
    },
    {
     "name": "stdout",
     "output_type": "stream",
     "text": [
      "Validation ROC AUC: 0.9803839205796144\n"
     ]
    },
    {
     "name": "stderr",
     "output_type": "stream",
     "text": [
      "Train epoch 5: 100%|██████████| 317/317 [00:32<00:00,  9.88it/s, loss=0.0931]\n",
      "Val epoch 5: 100%|██████████| 66/66 [00:03<00:00, 21.47it/s]\n"
     ]
    },
    {
     "name": "stdout",
     "output_type": "stream",
     "text": [
      "Validation ROC AUC: 0.9838131120083284\n"
     ]
    },
    {
     "name": "stderr",
     "output_type": "stream",
     "text": [
      "Train epoch 6: 100%|██████████| 317/317 [00:31<00:00,  9.96it/s, loss=0.0758]\n",
      "Val epoch 6: 100%|██████████| 66/66 [00:02<00:00, 23.50it/s]\n"
     ]
    },
    {
     "name": "stdout",
     "output_type": "stream",
     "text": [
      "Validation ROC AUC: 0.9852766258437023\n"
     ]
    },
    {
     "name": "stderr",
     "output_type": "stream",
     "text": [
      "Train epoch 7: 100%|██████████| 317/317 [00:31<00:00, 10.14it/s, loss=0.0628]\n",
      "Val epoch 7: 100%|██████████| 66/66 [00:02<00:00, 22.83it/s]\n"
     ]
    },
    {
     "name": "stdout",
     "output_type": "stream",
     "text": [
      "Validation ROC AUC: 0.9863310136721077\n"
     ]
    },
    {
     "name": "stderr",
     "output_type": "stream",
     "text": [
      "Train epoch 8: 100%|██████████| 317/317 [00:30<00:00, 10.47it/s, loss=0.0541]\n",
      "Val epoch 8: 100%|██████████| 66/66 [00:02<00:00, 23.47it/s]\n"
     ]
    },
    {
     "name": "stdout",
     "output_type": "stream",
     "text": [
      "Validation ROC AUC: 0.9876893648366761\n"
     ]
    },
    {
     "name": "stderr",
     "output_type": "stream",
     "text": [
      "Train epoch 9:  44%|████▍     | 140/317 [00:13<00:17, 10.28it/s, loss=0.0527]\n"
     ]
    },
    {
     "ename": "KeyboardInterrupt",
     "evalue": "",
     "output_type": "error",
     "traceback": [
      "\u001b[0;31m---------------------------------------------------------------------------\u001b[0m",
      "\u001b[0;31mKeyboardInterrupt\u001b[0m                         Traceback (most recent call last)",
      "Cell \u001b[0;32mIn[79], line 1\u001b[0m\n\u001b[0;32m----> 1\u001b[0m \u001b[43mtrain\u001b[49m\u001b[43m(\u001b[49m\u001b[43mmc_model\u001b[49m\u001b[43m,\u001b[49m\u001b[43m \u001b[49m\u001b[43mtrain_combined_loader\u001b[49m\u001b[43m,\u001b[49m\u001b[43m \u001b[49m\u001b[43mval_combined_loader\u001b[49m\u001b[43m,\u001b[49m\u001b[43m \u001b[49m\u001b[38;5;241;43m25\u001b[39;49m\u001b[43m,\u001b[49m\u001b[43m \u001b[49m\u001b[38;5;124;43m\"\u001b[39;49m\u001b[38;5;124;43mmpnn_general\u001b[39;49m\u001b[38;5;124;43m\"\u001b[39;49m\u001b[43m)\u001b[49m\n",
      "Cell \u001b[0;32mIn[78], line 23\u001b[0m, in \u001b[0;36mtrain\u001b[0;34m(model, train_loader, val_loader, epochs, model_name)\u001b[0m\n\u001b[1;32m     21\u001b[0m model\u001b[38;5;241m.\u001b[39moptimizer\u001b[38;5;241m.\u001b[39mzero_grad()\n\u001b[1;32m     22\u001b[0m loss \u001b[38;5;241m=\u001b[39m model\u001b[38;5;241m.\u001b[39mloss(pred, target)\n\u001b[0;32m---> 23\u001b[0m \u001b[43mloss\u001b[49m\u001b[38;5;241;43m.\u001b[39;49m\u001b[43mbackward\u001b[49m\u001b[43m(\u001b[49m\u001b[43m)\u001b[49m\n\u001b[1;32m     24\u001b[0m model\u001b[38;5;241m.\u001b[39moptimizer\u001b[38;5;241m.\u001b[39mstep()\n\u001b[1;32m     25\u001b[0m losses\u001b[38;5;241m.\u001b[39mappend(loss\u001b[38;5;241m.\u001b[39mitem())\n",
      "File \u001b[0;32m~/edu/competitions/admet/.conda/lib/python3.11/site-packages/torch/_tensor.py:521\u001b[0m, in \u001b[0;36mTensor.backward\u001b[0;34m(self, gradient, retain_graph, create_graph, inputs)\u001b[0m\n\u001b[1;32m    511\u001b[0m \u001b[38;5;28;01mif\u001b[39;00m has_torch_function_unary(\u001b[38;5;28mself\u001b[39m):\n\u001b[1;32m    512\u001b[0m     \u001b[38;5;28;01mreturn\u001b[39;00m handle_torch_function(\n\u001b[1;32m    513\u001b[0m         Tensor\u001b[38;5;241m.\u001b[39mbackward,\n\u001b[1;32m    514\u001b[0m         (\u001b[38;5;28mself\u001b[39m,),\n\u001b[0;32m   (...)\u001b[0m\n\u001b[1;32m    519\u001b[0m         inputs\u001b[38;5;241m=\u001b[39minputs,\n\u001b[1;32m    520\u001b[0m     )\n\u001b[0;32m--> 521\u001b[0m \u001b[43mtorch\u001b[49m\u001b[38;5;241;43m.\u001b[39;49m\u001b[43mautograd\u001b[49m\u001b[38;5;241;43m.\u001b[39;49m\u001b[43mbackward\u001b[49m\u001b[43m(\u001b[49m\n\u001b[1;32m    522\u001b[0m \u001b[43m    \u001b[49m\u001b[38;5;28;43mself\u001b[39;49m\u001b[43m,\u001b[49m\u001b[43m \u001b[49m\u001b[43mgradient\u001b[49m\u001b[43m,\u001b[49m\u001b[43m \u001b[49m\u001b[43mretain_graph\u001b[49m\u001b[43m,\u001b[49m\u001b[43m \u001b[49m\u001b[43mcreate_graph\u001b[49m\u001b[43m,\u001b[49m\u001b[43m \u001b[49m\u001b[43minputs\u001b[49m\u001b[38;5;241;43m=\u001b[39;49m\u001b[43minputs\u001b[49m\n\u001b[1;32m    523\u001b[0m \u001b[43m\u001b[49m\u001b[43m)\u001b[49m\n",
      "File \u001b[0;32m~/edu/competitions/admet/.conda/lib/python3.11/site-packages/torch/autograd/__init__.py:289\u001b[0m, in \u001b[0;36mbackward\u001b[0;34m(tensors, grad_tensors, retain_graph, create_graph, grad_variables, inputs)\u001b[0m\n\u001b[1;32m    284\u001b[0m     retain_graph \u001b[38;5;241m=\u001b[39m create_graph\n\u001b[1;32m    286\u001b[0m \u001b[38;5;66;03m# The reason we repeat the same comment below is that\u001b[39;00m\n\u001b[1;32m    287\u001b[0m \u001b[38;5;66;03m# some Python versions print out the first line of a multi-line function\u001b[39;00m\n\u001b[1;32m    288\u001b[0m \u001b[38;5;66;03m# calls in the traceback and some print out the last line\u001b[39;00m\n\u001b[0;32m--> 289\u001b[0m \u001b[43m_engine_run_backward\u001b[49m\u001b[43m(\u001b[49m\n\u001b[1;32m    290\u001b[0m \u001b[43m    \u001b[49m\u001b[43mtensors\u001b[49m\u001b[43m,\u001b[49m\n\u001b[1;32m    291\u001b[0m \u001b[43m    \u001b[49m\u001b[43mgrad_tensors_\u001b[49m\u001b[43m,\u001b[49m\n\u001b[1;32m    292\u001b[0m \u001b[43m    \u001b[49m\u001b[43mretain_graph\u001b[49m\u001b[43m,\u001b[49m\n\u001b[1;32m    293\u001b[0m \u001b[43m    \u001b[49m\u001b[43mcreate_graph\u001b[49m\u001b[43m,\u001b[49m\n\u001b[1;32m    294\u001b[0m \u001b[43m    \u001b[49m\u001b[43minputs\u001b[49m\u001b[43m,\u001b[49m\n\u001b[1;32m    295\u001b[0m \u001b[43m    \u001b[49m\u001b[43mallow_unreachable\u001b[49m\u001b[38;5;241;43m=\u001b[39;49m\u001b[38;5;28;43;01mTrue\u001b[39;49;00m\u001b[43m,\u001b[49m\n\u001b[1;32m    296\u001b[0m \u001b[43m    \u001b[49m\u001b[43maccumulate_grad\u001b[49m\u001b[38;5;241;43m=\u001b[39;49m\u001b[38;5;28;43;01mTrue\u001b[39;49;00m\u001b[43m,\u001b[49m\n\u001b[1;32m    297\u001b[0m \u001b[43m\u001b[49m\u001b[43m)\u001b[49m\n",
      "File \u001b[0;32m~/edu/competitions/admet/.conda/lib/python3.11/site-packages/torch/autograd/graph.py:769\u001b[0m, in \u001b[0;36m_engine_run_backward\u001b[0;34m(t_outputs, *args, **kwargs)\u001b[0m\n\u001b[1;32m    767\u001b[0m     unregister_hooks \u001b[38;5;241m=\u001b[39m _register_logging_hooks_on_whole_graph(t_outputs)\n\u001b[1;32m    768\u001b[0m \u001b[38;5;28;01mtry\u001b[39;00m:\n\u001b[0;32m--> 769\u001b[0m     \u001b[38;5;28;01mreturn\u001b[39;00m \u001b[43mVariable\u001b[49m\u001b[38;5;241;43m.\u001b[39;49m\u001b[43m_execution_engine\u001b[49m\u001b[38;5;241;43m.\u001b[39;49m\u001b[43mrun_backward\u001b[49m\u001b[43m(\u001b[49m\u001b[43m  \u001b[49m\u001b[38;5;66;43;03m# Calls into the C++ engine to run the backward pass\u001b[39;49;00m\n\u001b[1;32m    770\u001b[0m \u001b[43m        \u001b[49m\u001b[43mt_outputs\u001b[49m\u001b[43m,\u001b[49m\u001b[43m \u001b[49m\u001b[38;5;241;43m*\u001b[39;49m\u001b[43margs\u001b[49m\u001b[43m,\u001b[49m\u001b[43m \u001b[49m\u001b[38;5;241;43m*\u001b[39;49m\u001b[38;5;241;43m*\u001b[39;49m\u001b[43mkwargs\u001b[49m\n\u001b[1;32m    771\u001b[0m \u001b[43m    \u001b[49m\u001b[43m)\u001b[49m  \u001b[38;5;66;03m# Calls into the C++ engine to run the backward pass\u001b[39;00m\n\u001b[1;32m    772\u001b[0m \u001b[38;5;28;01mfinally\u001b[39;00m:\n\u001b[1;32m    773\u001b[0m     \u001b[38;5;28;01mif\u001b[39;00m attach_logging_hooks:\n",
      "\u001b[0;31mKeyboardInterrupt\u001b[0m: "
     ]
    }
   ],
   "source": [
    "train(mc_model, train_combined_loader, val_combined_loader, 25, \"mpnn_general\")"
   ]
  },
  {
   "cell_type": "code",
   "execution_count": 80,
   "metadata": {},
   "outputs": [
    {
     "name": "stderr",
     "output_type": "stream",
     "text": [
      "/tmp/ipykernel_28580/2748658266.py:1: FutureWarning: You are using `torch.load` with `weights_only=False` (the current default value), which uses the default pickle module implicitly. It is possible to construct malicious pickle data which will execute arbitrary code during unpickling (See https://github.com/pytorch/pytorch/blob/main/SECURITY.md#untrusted-models for more details). In a future release, the default value for `weights_only` will be flipped to `True`. This limits the functions that could be executed during unpickling. Arbitrary objects will no longer be allowed to be loaded via this mode unless they are explicitly allowlisted by the user via `torch.serialization.add_safe_globals`. We recommend you start setting `weights_only=True` for any use case where you don't have full control of the loaded file. Please open an issue on GitHub for any issues related to this experimental feature.\n",
      "  mc_model.load_state_dict(torch.load(\"checkpoints/mpnn_general_5.pt\"))\n"
     ]
    },
    {
     "data": {
      "text/plain": [
       "MoleculeCrusher(\n",
       "  (mpnn): MPNN(\n",
       "    (message_passing): BondMessagePassing(\n",
       "      (W_i): Linear(in_features=86, out_features=300, bias=False)\n",
       "      (W_h): Linear(in_features=300, out_features=300, bias=False)\n",
       "      (W_o): Linear(in_features=372, out_features=300, bias=True)\n",
       "      (dropout): Dropout(p=0.0, inplace=False)\n",
       "      (tau): ReLU()\n",
       "      (V_d_transform): Identity()\n",
       "      (graph_transform): Identity()\n",
       "    )\n",
       "    (agg): MeanAggregation()\n",
       "    (bn): BatchNorm1d(300, eps=1e-05, momentum=0.1, affine=True, track_running_stats=True)\n",
       "    (predictor): BinaryClassificationFFN(\n",
       "      (ffn): MLP(\n",
       "        (0): Sequential(\n",
       "          (0): Linear(in_features=556, out_features=300, bias=True)\n",
       "        )\n",
       "        (1): Sequential(\n",
       "          (0): ReLU()\n",
       "          (1): Dropout(p=0.0, inplace=False)\n",
       "          (2): Linear(in_features=300, out_features=3, bias=True)\n",
       "        )\n",
       "      )\n",
       "      (criterion): BCELoss(task_weights=[[1.0]])\n",
       "      (output_transform): Identity()\n",
       "    )\n",
       "    (X_d_transform): Identity()\n",
       "  )\n",
       "  (embedder): Sequential(\n",
       "    (0): Linear(in_features=210, out_features=256, bias=True)\n",
       "    (1): ReLU()\n",
       "    (2): Linear(in_features=256, out_features=256, bias=True)\n",
       "    (3): ReLU()\n",
       "    (4): Linear(in_features=256, out_features=256, bias=True)\n",
       "  )\n",
       "  (bn): BatchNorm1d(556, eps=1e-05, momentum=0.1, affine=True, track_running_stats=True)\n",
       ")"
      ]
     },
     "execution_count": 80,
     "metadata": {},
     "output_type": "execute_result"
    }
   ],
   "source": [
    "mc_model.load_state_dict(torch.load(\"checkpoints/mpnn_general_5.pt\"))\n",
    "mc_model.to(\"cpu\")\n",
    "mc_model.eval()"
   ]
  },
  {
   "cell_type": "code",
   "execution_count": 81,
   "metadata": {},
   "outputs": [],
   "source": [
    "probs = []\n",
    "props = []\n",
    "targs = []\n",
    "\n",
    "for batch in val_combined_loader:\n",
    "    batch_mol, batch_feat = batch\n",
    "    bmg, V_d, X_d, target, weights, lt_mask, gt_mask = batch_mol\n",
    "    with torch.no_grad():\n",
    "        preds = mc_model.forward(bmg, batch_feat)\n",
    "    idx = target[:, 0].to(torch.long)\n",
    "\n",
    "    probs.append(preds.gather(1, idx.unsqueeze(1) - 1).squeeze(1))\n",
    "    props.append(idx)\n",
    "    targs.append(target.gather(1, idx.unsqueeze(1)).squeeze(1))\n",
    "\n",
    "probs = torch.cat(probs, dim=0)\n",
    "targs = torch.cat(targs, dim=0)\n",
    "props = torch.cat(props, dim=0)"
   ]
  },
  {
   "cell_type": "code",
   "execution_count": 82,
   "metadata": {},
   "outputs": [
    {
     "name": "stdout",
     "output_type": "stream",
     "text": [
      "0.976649510607356\n",
      "0.9801587301587301\n",
      "0.9963877963509232\n"
     ]
    }
   ],
   "source": [
    "print(roc_auc_score(targs[props == 1], probs[props == 1]))\n",
    "print(roc_auc_score(targs[props == 2], probs[props == 2]))\n",
    "print(roc_auc_score(targs[props == 3], probs[props == 3]))"
   ]
  },
  {
   "cell_type": "code",
   "execution_count": 83,
   "metadata": {},
   "outputs": [],
   "source": [
    "probs = []\n",
    "\n",
    "for batch in test_combined_loader:\n",
    "    batch_mol, batch_feat = batch\n",
    "    bmg, V_d, X_d, target, weights, lt_mask, gt_mask = batch_mol\n",
    "    with torch.no_grad():\n",
    "        preds = mc_model.forward(bmg, batch_feat)\n",
    "    idx = target[:, 0].to(torch.long)\n",
    "\n",
    "    probs.append(preds.gather(1, idx.unsqueeze(1) - 1).squeeze(1))\n",
    "\n",
    "probs = torch.cat(probs, dim=0)"
   ]
  },
  {
   "cell_type": "code",
   "execution_count": 84,
   "metadata": {},
   "outputs": [],
   "source": [
    "sample[\"Y\"] = probs\n",
    "sample.to_csv(\"submissions/gnn_dirty.csv\", index=False)"
   ]
  }
 ],
 "metadata": {
  "kernelspec": {
   "display_name": "Python 3",
   "language": "python",
   "name": "python3"
  },
  "language_info": {
   "codemirror_mode": {
    "name": "ipython",
    "version": 3
   },
   "file_extension": ".py",
   "mimetype": "text/x-python",
   "name": "python",
   "nbconvert_exporter": "python",
   "pygments_lexer": "ipython3",
   "version": "3.11.9"
  }
 },
 "nbformat": 4,
 "nbformat_minor": 2
}
